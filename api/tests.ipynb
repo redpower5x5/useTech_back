{
 "cells": [
  {
   "cell_type": "code",
   "execution_count": 8,
   "metadata": {},
   "outputs": [],
   "source": [
    "import re\n",
    "import os"
   ]
  },
  {
   "cell_type": "code",
   "execution_count": 9,
   "metadata": {},
   "outputs": [],
   "source": [
    "path_to_file = '../test_data/css_base.txt'"
   ]
  },
  {
   "cell_type": "code",
   "execution_count": 10,
   "metadata": {},
   "outputs": [],
   "source": [
    "with open(path_to_file, 'r') as f:\n",
    "    css = f.read()"
   ]
  },
  {
   "cell_type": "code",
   "execution_count": 11,
   "metadata": {},
   "outputs": [
    {
     "data": {
      "text/plain": [
       "'export const Header: React.FC = () => {\\n  return (\\n    <div className=\"header\">\\n      <div className=\"header--wrap\">\\n        <div className=\"header--left\">\\n          <img src=\"data:image/png;base64,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\" />\\n          <div className=\"menu\">\\n            <div className=\"item\">\\n              <p className=\"text-2\">Тексты</p>\\n            </div>\\n            <div className=\"item\">\\n              <p className=\"text-3\">Митапы</p>\\n            </div>\\n            <div className=\"item\">\\n              <p className=\"text-4\">Figma</p>\\n            </div>\\n            <div className=\"item\">\\n              <p className=\"text-5\">Заметки</p>\\n            </div>\\n            <div className=\"item\">\\n              <p className=\"text-6\">Дайджест</p>\\n            </div>\\n            <div className=\"item\">\\n              <div className=\"vuesax-/linear-/search--normal\">\\n                <div className=\"vuesax-/linear-/search--normal\">\\n                  <img src=\"data:image/png;base64,iVBORw0KGgoAAAANSUhEUgAAABQAAAAVCAYAAABG1c6oAAAACXBIWXMAAAsTAAALEwEAmpwYAAAAAXNSR0IArs4c6QAAAARnQU1BAACxjwv8YQUAAAEXSURBVHgBtVQLFcIwDMxQMAcUBQwHk4CEScABOBkOwMFwMFAAKAAHIYHbW9d96Mq49+7tk+TatEmIJkbUZ2DmWB5roRHOhXfhWRlF0Y18oULCrfDBNa7cRC40PmLGCtag1LEnwr21SOojNuzY9NUskj6nSsyQB3A0VUzsGjOkkdEIaCaI27mGg65EAZC4ohWLs8gpABK3wS61tGiG/JUXCsMNz8VbEGK/4Gl/zFD1+tNQGJKWMA62pAB0XqhVNimNAAqcOy+0t0iHBcveZkCfPny6BV2Sf20GMa4t0cwVhtCG6wGi79vBDeBcDlyjrC6N65FWoO1idwYMDVh1yIRL+tSqloUO2aOU2snxK/C5oimArHb0D7wABJKQgO8WaJgAAAAASUVORK5CYII=\" />\\n                </div>\\n              </div>\\n              <p className=\"text-8\">Поиск</p>\\n            </div>\\n          </div>\\n        </div>\\n        <div className=\"header--right\">\\n          <div className=\"social\">\\n            <p className=\"text-9\">youtube</p>\\n            <p className=\"text-1-0\">vk</p>\\n            <p className=\"text-1-1\">telegram</p>\\n            <p className=\"text-1-2\">dprofile</p>\\n          </div>\\n          <div className=\"vuesax\">\\n            <div className=\"vuesax-/linear-/sun\">\\n              <div className=\"vuesax-/linear-/sun\">\\n                <img src=\"data:image/png;base64,iVBORw0KGgoAAAANSUhEUgAAABQAAAAVCAYAAABG1c6oAAAACXBIWXMAAAsTAAALEwEAmpwYAAAAAXNSR0IArs4c6QAAAARnQU1BAACxjwv8YQUAAAEeSURBVHgBxVSBDYIwEHyMA+AE1g0YATdgBDaQDXQT4wS6AW6gTqAbwAb1PjliUwM80egnl5b27nu0/Yr8I7z3G6CUbwWS1QqZGhClgJvAdzE/iQjqIkuSZNEtgKYAOtEVOGO+5fwdzQ3fxdCKJfu6bw1RE9q/AxU5JZCJ4Ve2FFd0Gc7pmMZWLKErUlAMcHJycjEkPAJ7I68ecuXYb4bcBZpCueynnWbGRBegJFf3rJXxaMnV0ENSx8twtfQDh673tHk9joaEe+AkBuLoCdKd95Y7SMGOgioaT4MLv7MkyoJKqVgVcaU0UaW4MEdcy7p3WsurzhGaXMdIeQCnoJb1UK74Xvc5fHs9Rv7I+ag0rcLaG9/DudjiIK9L/Nt4AvvrXLCZQsiIAAAAAElFTkSuQmCC\" />\\n              </div>\\n            </div>\\n          </div>\\n        </div>\\n      </div>\\n      <div className=\"devider\" />\\n    </div>\\n  )\\n}\\n\\n.header {\\n  width: 1200px;\\n  height: fit-content;\\n  display: flex;\\n  flex-direction: column;\\n  justify-content: center;\\n  align-items: flex-start;\\n  padding: 16px 24px 0px 24px;\\n  gap: 16px;\\n  background-color: #0b1328;\\n}\\n.header--wrap {\\n  width: 100%;\\n  height: fit-content;\\n  display: flex;\\n  flex-direction: row;\\n  justify-content: space-between;\\n  align-items: center;\\n}\\n.header--left {\\n  width: fit-content;\\n  height: fit-content;\\n  display: flex;\\n  flex-direction: row;\\n  justify-content: flex-start;\\n  align-items: center;\\n  gap: 40px;\\n}\\n.img-1 {\\n  width: 111px;\\n  height: 41px;\\n  height: 41px;\\n  width: 111px;\\n}\\n.menu {\\n  width: fit-content;\\n  height: fit-content;\\n  display: flex;\\n  flex-direction: row;\\n  justify-content: flex-start;\\n  align-items: flex-start;\\n  gap: 24px;\\n}\\n.item {\\n  width: fit-content;\\n  height: fit-content;\\n  display: flex;\\n  flex-direction: row;\\n  justify-content: flex-start;\\n  align-items: flex-start;\\n  gap: 8px;\\n}\\n.text-2 {\\n  text-align: left;\\n  vertical-align: top;\\n  font-size: 16px;\\n  font-family: Gilroy;\\n  margin-block: 0px;\\n  line-height: 20px;\\n  color: #ffffff;\\n}\\n.item {\\n  width: fit-content;\\n  height: fit-content;\\n  display: flex;\\n  flex-direction: row;\\n  justify-content: flex-start;\\n  align-items: flex-start;\\n  gap: 8px;\\n}\\n.text-3 {\\n  text-align: left;\\n  vertical-align: top;\\n  font-size: 16px;\\n  font-family: Gilroy;\\n  margin-block: 0px;\\n  line-height: 20px;\\n  color: #ffffff;\\n}\\n.item {\\n  width: fit-content;\\n  height: fit-content;\\n  display: flex;\\n  flex-direction: row;\\n  justify-content: flex-start;\\n  align-items: flex-start;\\n  gap: 8px;\\n}\\n.text-4 {\\n  text-align: left;\\n  vertical-align: top;\\n  font-size: 16px;\\n  font-family: Gilroy;\\n  margin-block: 0px;\\n  line-height: 20px;\\n  color: #ffffff;\\n}\\n.item {\\n  width: fit-content;\\n  height: fit-content;\\n  display: flex;\\n  flex-direction: row;\\n  justify-content: flex-start;\\n  align-items: flex-start;\\n  gap: 8px;\\n}\\n.text-5 {\\n  text-align: left;\\n  vertical-align: top;\\n  font-size: 16px;\\n  font-family: Gilroy;\\n  margin-block: 0px;\\n  line-height: 20px;\\n  color: #ffffff;\\n}\\n.item {\\n  width: fit-content;\\n  height: fit-content;\\n  display: flex;\\n  flex-direction: row;\\n  justify-content: flex-start;\\n  align-items: flex-start;\\n  gap: 8px;\\n}\\n.text-6 {\\n  text-align: left;\\n  vertical-align: top;\\n  font-size: 16px;\\n  font-family: Gilroy;\\n  margin-block: 0px;\\n  line-height: 20px;\\n  color: #ffffff;\\n}\\n.item {\\n  width: fit-content;\\n  height: fit-content;\\n  display: flex;\\n  flex-direction: row;\\n  justify-content: flex-start;\\n  align-items: center;\\n  gap: 8px;\\n}\\n.vuesax-/linear-/search--normal {\\n  width: 20px;\\n  height: 20px;\\n  height: 20px;\\n  width: 20px;\\n}\\n.vuesax-/linear-/search--normal {\\n  height: 20px;\\n  width: 20px;\\n}\\n.img-7 {\\n  height: 20px;\\n  width: 20px;\\n}\\n.text-8 {\\n  text-align: left;\\n  vertical-align: top;\\n  font-size: 16px;\\n  font-family: Gilroy;\\n  margin-block: 0px;\\n  line-height: 20px;\\n  color: #ffffff;\\n}\\n.header--right {\\n  width: fit-content;\\n  height: fit-content;\\n  display: flex;\\n  flex-direction: row;\\n  justify-content: flex-start;\\n  align-items: flex-start;\\n  gap: 48px;\\n}\\n.social {\\n  width: fit-content;\\n  height: fit-content;\\n  display: flex;\\n  flex-direction: row;\\n  justify-content: flex-start;\\n  align-items: flex-start;\\n  gap: 16px;\\n}\\n.text-9 {\\n  text-align: left;\\n  vertical-align: top;\\n  font-size: 16px;\\n  font-family: Gilroy;\\n  margin-block: 0px;\\n  line-height: 20px;\\n  color: #ffffff;\\n}\\n.text-1-0 {\\n  text-align: left;\\n  vertical-align: top;\\n  font-size: 16px;\\n  font-family: Gilroy;\\n  margin-block: 0px;\\n  line-height: 20px;\\n  color: #ffffff;\\n}\\n.text-1-1 {\\n  text-align: left;\\n  vertical-align: top;\\n  font-size: 16px;\\n  font-family: Gilroy;\\n  margin-block: 0px;\\n  line-height: 20px;\\n  color: #ffffff;\\n}\\n.text-1-2 {\\n  text-align: left;\\n  vertical-align: top;\\n  font-size: 16px;\\n  font-family: Gilroy;\\n  margin-block: 0px;\\n  line-height: 20px;\\n  color: #ffffff;\\n}\\n.vuesax {\\n  width: 20px;\\n  height: 20px;\\n  height: 20px;\\n  width: 20px;\\n}\\n.vuesax-/linear-/sun {\\n  width: 20px;\\n  height: 20px;\\n  height: 20px;\\n  width: 20px;\\n}\\n.vuesax-/linear-/sun {\\n  height: 20px;\\n  width: 20px;\\n}\\n.img-1-3 {\\n  height: 20px;\\n  width: 20px;\\n}\\n.devider {\\n  height: 0px;\\n  width: 1152px;\\n  border: 1px solid #20283e;\\n}\\n'"
      ]
     },
     "execution_count": 11,
     "metadata": {},
     "output_type": "execute_result"
    }
   ],
   "source": [
    "css"
   ]
  },
  {
   "cell_type": "code",
   "execution_count": 12,
   "metadata": {},
   "outputs": [],
   "source": [
    "name_of_component = css.split(':')[0].split('export const ')[1]"
   ]
  },
  {
   "cell_type": "code",
   "execution_count": 13,
   "metadata": {},
   "outputs": [],
   "source": [
    "component_data = css.split('return (\\n')[1].split(')')[0]"
   ]
  },
  {
   "cell_type": "code",
   "execution_count": 14,
   "metadata": {},
   "outputs": [],
   "source": [
    "css_code = css.split('}\\n\\n')[1]"
   ]
  },
  {
   "cell_type": "code",
   "execution_count": 15,
   "metadata": {},
   "outputs": [],
   "source": [
    "from api.generators.gen_simple_css import GenCSSProject"
   ]
  },
  {
   "cell_type": "code",
   "execution_count": 16,
   "metadata": {},
   "outputs": [],
   "source": [
    "test = GenCSSProject(css)"
   ]
  },
  {
   "cell_type": "code",
   "execution_count": 17,
   "metadata": {},
   "outputs": [],
   "source": [
    "test.insert_data_into_files()"
   ]
  },
  {
   "cell_type": "code",
   "execution_count": 18,
   "metadata": {},
   "outputs": [
    {
     "data": {
      "text/plain": [
       "'././compiled/uuid.zip'"
      ]
     },
     "execution_count": 18,
     "metadata": {},
     "output_type": "execute_result"
    }
   ],
   "source": [
    "test.zip_project('uuid')"
   ]
  },
  {
   "cell_type": "code",
   "execution_count": null,
   "metadata": {},
   "outputs": [],
   "source": []
  }
 ],
 "metadata": {
  "kernelspec": {
   "display_name": "venv",
   "language": "python",
   "name": "python3"
  },
  "language_info": {
   "codemirror_mode": {
    "name": "ipython",
    "version": 3
   },
   "file_extension": ".py",
   "mimetype": "text/x-python",
   "name": "python",
   "nbconvert_exporter": "python",
   "pygments_lexer": "ipython3",
   "version": "3.11.3"
  },
  "orig_nbformat": 4
 },
 "nbformat": 4,
 "nbformat_minor": 2
}
